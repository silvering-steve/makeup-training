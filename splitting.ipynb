{
 "cells": [
  {
   "cell_type": "code",
   "execution_count": 1,
   "id": "initial_id",
   "metadata": {
    "collapsed": true,
    "ExecuteTime": {
     "end_time": "2023-11-08T05:41:18.092293700Z",
     "start_time": "2023-11-08T05:30:33.737047900Z"
    }
   },
   "outputs": [],
   "source": [
    "import os\n",
    "import random\n",
    "import shutil\n",
    "from tqdm import tqdm \n",
    "\n",
    "# Tempat Direktori\n",
    "data_dir = 'datasets/augmented/'\n",
    "images_dir = os.path.join(data_dir, 'images')\n",
    "labels_dir = os.path.join(data_dir, 'labels')\n",
    "\n",
    "# split size\n",
    "train_size = 0.95\n",
    "val_size = 0.05\n",
    "\n",
    "# Tambah direktori untuk subset\n",
    "new_dataset = './datasets/'\n",
    "os.makedirs(new_dataset, exist_ok = True)\n",
    "subset_dirs = ['train', 'valid']\n",
    "for subset_dir in subset_dirs:\n",
    "    os.makedirs(os.path.join(new_dataset, subset_dir, 'images'), exist_ok=True)\n",
    "    os.makedirs(os.path.join(new_dataset, subset_dir, 'labels'), exist_ok=True)\n",
    "    \n",
    "# Menghitung class yang muncul di dataset\n",
    "class_counts = {}\n",
    "label_files = os.listdir(labels_dir)\n",
    "for label_file in label_files:\n",
    "    with open(os.path.join(labels_dir, label_file), 'r') as file:\n",
    "        lines = file.readlines()\n",
    "        for line in lines:\n",
    "            class_id = int(line.split()[0])\n",
    "            class_counts[class_id] = class_counts.get(class_id, 0) + 1\\\n",
    "\n",
    "# Inisialisasi jumlah class pada setiap subset\n",
    "class_counts_in_subsets = {subset: {} for subset in subset_dirs}\n",
    "\n",
    "# Pemisahan data\n",
    "for label_files in tqdm(label_files):\n",
    "    image_files = label_files.replace('.txt', '.jpg')\n",
    "    class_id = None\n",
    "    with open(os.path.join(labels_dir, label_files), 'r') as file:\n",
    "        line = file.readline()\n",
    "        if line:\n",
    "            class_id = int(line.split()[0])\n",
    "\n",
    "    if class_id is not None:\n",
    "        # Menentukan subset mana yang akan menempatkan instance\n",
    "        subset = None\n",
    "        if class_counts_in_subsets['train'].get(class_id, 0) < train_size * class_counts[class_id]:\n",
    "            subset = 'train'\n",
    "        elif class_counts_in_subsets['valid'].get(class_id, 0) < val_size * class_counts[class_id]:\n",
    "            subset = 'valid'        \n",
    "\n",
    "        # Update jumlah and copy files ke subset yg sesuai \n",
    "        class_counts_in_subsets[subset][class_id] = class_counts_in_subsets[subset].get(class_id, 0) + 1\n",
    "        shutil.copy(os.path.join(images_dir, image_files), os.path.join(new_dataset, subset, 'images'))\n",
    "        shutil.copy(os.path.join(labels_dir, label_files), os.path.join(new_dataset, subset, 'labels'))"
   ]
  },
  {
   "cell_type": "code",
   "execution_count": 3,
   "outputs": [
    {
     "data": {
      "text/plain": "53454"
     },
     "execution_count": 3,
     "metadata": {},
     "output_type": "execute_result"
    }
   ],
   "source": [
    "len(os.listdir('./datasets/train/images'))"
   ],
   "metadata": {
    "collapsed": false,
    "ExecuteTime": {
     "end_time": "2023-11-08T05:58:45.775927600Z",
     "start_time": "2023-11-08T05:58:45.746776Z"
    }
   },
   "id": "1a9ede273c550c51"
  },
  {
   "cell_type": "code",
   "execution_count": 2,
   "outputs": [
    {
     "data": {
      "text/plain": "2546"
     },
     "execution_count": 2,
     "metadata": {},
     "output_type": "execute_result"
    }
   ],
   "source": [
    "len(os.listdir('./datasets/valid/images'))"
   ],
   "metadata": {
    "collapsed": false,
    "ExecuteTime": {
     "end_time": "2023-11-08T05:58:42.338690200Z",
     "start_time": "2023-11-08T05:58:42.325184200Z"
    }
   },
   "id": "9c791460c58096be"
  }
 ],
 "metadata": {
  "kernelspec": {
   "display_name": "Python 3",
   "language": "python",
   "name": "python3"
  },
  "language_info": {
   "codemirror_mode": {
    "name": "ipython",
    "version": 2
   },
   "file_extension": ".py",
   "mimetype": "text/x-python",
   "name": "python",
   "nbconvert_exporter": "python",
   "pygments_lexer": "ipython2",
   "version": "2.7.6"
  }
 },
 "nbformat": 4,
 "nbformat_minor": 5
}
